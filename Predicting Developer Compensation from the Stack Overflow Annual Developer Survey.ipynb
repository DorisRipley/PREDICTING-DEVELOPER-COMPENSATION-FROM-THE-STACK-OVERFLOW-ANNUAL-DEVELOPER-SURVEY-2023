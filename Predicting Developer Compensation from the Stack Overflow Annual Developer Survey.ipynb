{
 "cells": [
  {
   "cell_type": "markdown",
   "id": "919ca8cf",
   "metadata": {},
   "source": [
    "# Predicting Developer Compensation from the Stack Overflow Annual Developer Survey"
   ]
  },
  {
   "cell_type": "markdown",
   "id": "4b149b95",
   "metadata": {},
   "source": [
    "### Introduction: Understanding Developer Compensation with Data Science\n",
    "\n",
    "In today's fast-evolving tech landscape, understanding the factors that influence a developer's compensation is crucial for both employers and employees. Compensation isn't just a reflection of one's skills and experience; it's an intricate interplay of various factors ranging from geographical location and educational background to specific tech stacks and organizational roles. The Stack Overflow Annual Developer Survey, one of the most comprehensive datasets about developers globally, offers a unique lens through which we can analyze and predict developer compensation.\n",
    "\n",
    "This project dives deep into the survey's rich dataset, aiming to categorize developers into distinct salary brackets. Through rigorous data preprocessing, exploratory analysis, and advanced machine learning techniques, we unravel the intricacies of developer compensation. Join us as we embark on this analytical journey, navigating the challenges of real-world data and uncovering insights that could reshape our understanding of the tech industry's compensation dynamics."
   ]
  },
  {
   "cell_type": "markdown",
   "id": "cf261a9f",
   "metadata": {},
   "source": [
    "let's start by examining the dataset to determine its features and potential classification strategies. First, we'll take a look at the first few rows and the overall structure of the data."
   ]
  },
  {
   "cell_type": "code",
   "execution_count": 57,
   "id": "43782a27",
   "metadata": {},
   "outputs": [
    {
     "name": "stdout",
     "output_type": "stream",
     "text": [
      "<class 'pandas.core.frame.DataFrame'>\n",
      "RangeIndex: 89184 entries, 0 to 89183\n",
      "Data columns (total 84 columns):\n",
      " #   Column                               Non-Null Count  Dtype  \n",
      "---  ------                               --------------  -----  \n",
      " 0   ResponseId                           89184 non-null  int64  \n",
      " 1   Q120                                 89184 non-null  object \n",
      " 2   MainBranch                           89184 non-null  object \n",
      " 3   Age                                  89184 non-null  object \n",
      " 4   Employment                           87898 non-null  object \n",
      " 5   RemoteWork                           73810 non-null  object \n",
      " 6   CodingActivities                     73764 non-null  object \n",
      " 7   EdLevel                              87973 non-null  object \n",
      " 8   LearnCode                            87663 non-null  object \n",
      " 9   LearnCodeOnline                      70084 non-null  object \n",
      " 10  LearnCodeCoursesCert                 37076 non-null  object \n",
      " 11  YearsCode                            87435 non-null  object \n",
      " 12  YearsCodePro                         66136 non-null  object \n",
      " 13  DevType                              76872 non-null  object \n",
      " 14  OrgSize                              65043 non-null  object \n",
      " 15  PurchaseInfluence                    64964 non-null  object \n",
      " 16  TechList                             60851 non-null  object \n",
      " 17  BuyNewTool                           83009 non-null  object \n",
      " 18  Country                              87973 non-null  object \n",
      " 19  Currency                             65334 non-null  object \n",
      " 20  CompTotal                            48225 non-null  float64\n",
      " 21  LanguageHaveWorkedWith               87140 non-null  object \n",
      " 22  LanguageWantToWorkWith               80709 non-null  object \n",
      " 23  DatabaseHaveWorkedWith               73435 non-null  object \n",
      " 24  DatabaseWantToWorkWith               60911 non-null  object \n",
      " 25  PlatformHaveWorkedWith               63628 non-null  object \n",
      " 26  PlatformWantToWorkWith               51308 non-null  object \n",
      " 27  WebframeHaveWorkedWith               66938 non-null  object \n",
      " 28  WebframeWantToWorkWith               56741 non-null  object \n",
      " 29  MiscTechHaveWorkedWith               57019 non-null  object \n",
      " 30  MiscTechWantToWorkWith               46848 non-null  object \n",
      " 31  ToolsTechHaveWorkedWith              77884 non-null  object \n",
      " 32  ToolsTechWantToWorkWith              68315 non-null  object \n",
      " 33  NEWCollabToolsHaveWorkedWith         85864 non-null  object \n",
      " 34  NEWCollabToolsWantToWorkWith         76649 non-null  object \n",
      " 35  OpSysPersonal use                    86557 non-null  object \n",
      " 36  OpSysProfessional use                78587 non-null  object \n",
      " 37  OfficeStackAsyncHaveWorkedWith       69090 non-null  object \n",
      " 38  OfficeStackAsyncWantToWorkWith       53743 non-null  object \n",
      " 39  OfficeStackSyncHaveWorkedWith        83439 non-null  object \n",
      " 40  OfficeStackSyncWantToWorkWith        69776 non-null  object \n",
      " 41  AISearchHaveWorkedWith               56328 non-null  object \n",
      " 42  AISearchWantToWorkWith               46150 non-null  object \n",
      " 43  AIDevHaveWorkedWith                  25904 non-null  object \n",
      " 44  AIDevWantToWorkWith                  19587 non-null  object \n",
      " 45  NEWSOSites                           87973 non-null  object \n",
      " 46  SOVisitFreq                          87140 non-null  object \n",
      " 47  SOAccount                            87852 non-null  object \n",
      " 48  SOPartFreq                           66061 non-null  object \n",
      " 49  SOComm                               87692 non-null  object \n",
      " 50  SOAI                                 47912 non-null  object \n",
      " 51  AISelect                             87973 non-null  object \n",
      " 52  AISent                               61501 non-null  object \n",
      " 53  AIAcc                                38594 non-null  object \n",
      " 54  AIBen                                61396 non-null  object \n",
      " 55  AIToolInterested in Using            32783 non-null  object \n",
      " 56  AIToolCurrently Using                36137 non-null  object \n",
      " 57  AIToolNot interested in Using        21069 non-null  object \n",
      " 58  AINextVery different                 12661 non-null  object \n",
      " 59  AINextNeither different nor similar  6599 non-null   object \n",
      " 60  AINextSomewhat similar               6238 non-null   object \n",
      " 61  AINextVery similar                   2621 non-null   object \n",
      " 62  AINextSomewhat different             23303 non-null  object \n",
      " 63  TBranch                              65768 non-null  object \n",
      " 64  ICorPM                               43668 non-null  object \n",
      " 65  WorkExp                              43579 non-null  float64\n",
      " 66  Knowledge_1                          42535 non-null  object \n",
      " 67  Knowledge_2                          41670 non-null  object \n",
      " 68  Knowledge_3                          41798 non-null  object \n",
      " 69  Knowledge_4                          41684 non-null  object \n",
      " 70  Knowledge_5                          41527 non-null  object \n",
      " 71  Knowledge_6                          41520 non-null  object \n",
      " 72  Knowledge_7                          41467 non-null  object \n",
      " 73  Knowledge_8                          41404 non-null  object \n",
      " 74  Frequency_1                          41916 non-null  object \n",
      " 75  Frequency_2                          41925 non-null  object \n",
      " 76  Frequency_3                          41054 non-null  object \n",
      " 77  TimeSearching                        42778 non-null  object \n",
      " 78  TimeAnswering                        42629 non-null  object \n",
      " 79  ProfessionalTech                     41783 non-null  object \n",
      " 80  Industry                             36774 non-null  object \n",
      " 81  SurveyLength                         86485 non-null  object \n",
      " 82  SurveyEase                           86554 non-null  object \n",
      " 83  ConvertedCompYearly                  48019 non-null  float64\n",
      "dtypes: float64(3), int64(1), object(80)\n",
      "memory usage: 57.2+ MB\n"
     ]
    },
    {
     "data": {
      "text/plain": [
       "(   ResponseId     Q120                      MainBranch              Age  \\\n",
       " 0           1  I agree                   None of these  18-24 years old   \n",
       " 1           2  I agree  I am a developer by profession  25-34 years old   \n",
       " 2           3  I agree  I am a developer by profession  45-54 years old   \n",
       " 3           4  I agree  I am a developer by profession  25-34 years old   \n",
       " 4           5  I agree  I am a developer by profession  25-34 years old   \n",
       " \n",
       "                                           Employment  \\\n",
       " 0                                                NaN   \n",
       " 1                                Employed, full-time   \n",
       " 2                                Employed, full-time   \n",
       " 3                                Employed, full-time   \n",
       " 4  Employed, full-time;Independent contractor, fr...   \n",
       " \n",
       "                              RemoteWork  \\\n",
       " 0                                   NaN   \n",
       " 1                                Remote   \n",
       " 2  Hybrid (some remote, some in-person)   \n",
       " 3  Hybrid (some remote, some in-person)   \n",
       " 4                                Remote   \n",
       " \n",
       "                                     CodingActivities  \\\n",
       " 0                                                NaN   \n",
       " 1  Hobby;Contribute to open-source projects;Boots...   \n",
       " 2  Hobby;Professional development or self-paced l...   \n",
       " 3                                              Hobby   \n",
       " 4  Hobby;Contribute to open-source projects;Profe...   \n",
       " \n",
       "                                         EdLevel  \\\n",
       " 0                                           NaN   \n",
       " 1  Bachelor’s degree (B.A., B.S., B.Eng., etc.)   \n",
       " 2  Bachelor’s degree (B.A., B.S., B.Eng., etc.)   \n",
       " 3  Bachelor’s degree (B.A., B.S., B.Eng., etc.)   \n",
       " 4  Bachelor’s degree (B.A., B.S., B.Eng., etc.)   \n",
       " \n",
       "                                            LearnCode  \\\n",
       " 0                                                NaN   \n",
       " 1  Books / Physical media;Colleague;Friend or fam...   \n",
       " 2  Books / Physical media;Colleague;On the job tr...   \n",
       " 3  Colleague;Friend or family member;Other online...   \n",
       " 4  Books / Physical media;Online Courses or Certi...   \n",
       " \n",
       "                                      LearnCodeOnline  ...        Frequency_1  \\\n",
       " 0                                                NaN  ...                NaN   \n",
       " 1  Formal documentation provided by the owner of ...  ...   1-2 times a week   \n",
       " 2  Formal documentation provided by the owner of ...  ...  6-10 times a week   \n",
       " 3  Formal documentation provided by the owner of ...  ...   1-2 times a week   \n",
       " 4  Formal documentation provided by the owner of ...  ...   1-2 times a week   \n",
       " \n",
       "          Frequency_2       Frequency_3         TimeSearching  \\\n",
       " 0                NaN               NaN                   NaN   \n",
       " 1   10+ times a week             Never   15-30 minutes a day   \n",
       " 2  6-10 times a week  3-5 times a week   30-60 minutes a day   \n",
       " 3   10+ times a week  1-2 times a week   15-30 minutes a day   \n",
       " 4   1-2 times a week  3-5 times a week  60-120 minutes a day   \n",
       " \n",
       "          TimeAnswering                                   ProfessionalTech  \\\n",
       " 0                  NaN                                                NaN   \n",
       " 1  15-30 minutes a day  DevOps function;Microservices;Automated testin...   \n",
       " 2  30-60 minutes a day  DevOps function;Microservices;Automated testin...   \n",
       " 3  30-60 minutes a day  Automated testing;Continuous integration (CI) ...   \n",
       " 4  30-60 minutes a day  Microservices;Automated testing;Observability ...   \n",
       " \n",
       "                                             Industry           SurveyLength  \\\n",
       " 0                                                NaN                    NaN   \n",
       " 1  Information Services, IT, Software Development...  Appropriate in length   \n",
       " 2  Information Services, IT, Software Development...  Appropriate in length   \n",
       " 3                                                NaN  Appropriate in length   \n",
       " 4                                              Other  Appropriate in length   \n",
       " \n",
       "                    SurveyEase ConvertedCompYearly  \n",
       " 0                         NaN                 NaN  \n",
       " 1                        Easy            285000.0  \n",
       " 2                        Easy            250000.0  \n",
       " 3                        Easy            156000.0  \n",
       " 4  Neither easy nor difficult             23456.0  \n",
       " \n",
       " [5 rows x 84 columns],\n",
       " (89184, 84))"
      ]
     },
     "execution_count": 57,
     "metadata": {},
     "output_type": "execute_result"
    }
   ],
   "source": [
    "import pandas as pd\n",
    "\n",
    "# Load the dataset\n",
    "data = pd.read_csv(\"/Users/doris/Desktop/portafolio/Projects/classification/stack-overflow-developer-survey-2023/survey_results_public.csv\")\n",
    "\n",
    "# Display the first few rows and the overall structure of the dataset\n",
    "data_head = data.head()\n",
    "data_shape = data.shape\n",
    "data_info = data.info()\n",
    "\n",
    "data_head, data_shape\n"
   ]
  },
  {
   "cell_type": "markdown",
   "id": "584c80ea",
   "metadata": {},
   "source": [
    "The dataset contains 89,184 entries with 84 columns. we first need to define our target variable. Compensation Level: Categorize developers into different salary brackets based on their skills, experience, and other attributes.\n",
    "The next steps involved would be:\n",
    "\n",
    "1. **Define Compensation Brackets:** We'll need to define the salary brackets or categories we want to classify respondents into. For instance: Low, Medium, High, or specific numerical ranges.\n",
    "\n",
    "2. **Data Cleaning:** Address missing values and outliers, especially in the ConvertedCompYearly column which seems to represent the annual compensation.\n",
    "\n",
    "3. **Feature Engineering:** Extract or derive new features that might influence compensation, such as years of experience, technologies known, or education level.\n",
    "\n",
    "4. **Data Transformation:** Convert categorical variables into a format suitable for machine learning and normalize numerical features.\n",
    "\n",
    "5. **Model Selection & Training:** Split the data, select an algorithm, train the model, and validate its performance.\n",
    "\n",
    "6. **Evaluation:** Measure the performance of the model using appropriate metrics.\n",
    "\n",
    "Let's first determine the range of the ConvertedCompYearly values to understand the spread and then replot the histogram with an appropriate bin size."
   ]
  },
  {
   "cell_type": "code",
   "execution_count": 73,
   "id": "1709781f",
   "metadata": {},
   "outputs": [
    {
     "data": {
      "text/plain": [
       "(1.0, 74351432.0, 74963.0)"
      ]
     },
     "execution_count": 73,
     "metadata": {},
     "output_type": "execute_result"
    }
   ],
   "source": [
    "# Check the range of the ConvertedCompYearly values\n",
    "\n",
    "import matplotlib.pyplot as plt\n",
    "import seaborn as sns\n",
    "\n",
    "# Drop NaN values from the ConvertedCompYearly column for visualization\n",
    "compensation_data = data['ConvertedCompYearly'].dropna()\n",
    "\n",
    "\n",
    "compensation_min = compensation_data.min()\n",
    "compensation_max = compensation_data.max()\n",
    "compensation_median = compensation_data.median()\n",
    "\n",
    "compensation_min, compensation_max, compensation_median\n"
   ]
  },
  {
   "cell_type": "markdown",
   "id": "d09ab8e4",
   "metadata": {},
   "source": [
    "The range for the ConvertedCompYearly values is quite large, from $\\$1$ to over $\\$74$ million. The median is approximately $\\$75,000$. This wide range suggests the presence of outliers or potentially erroneous entries, which can distort the visualization.\n",
    "\n",
    "To better visualize the distribution without extreme outliers, we can focus on a narrower range around the median. "
   ]
  },
  {
   "cell_type": "code",
   "execution_count": 75,
   "id": "4abbd62d",
   "metadata": {},
   "outputs": [
    {
     "data": {
      "image/png": "[encoded data removed]",
      "text/plain": [
       "<Figure size 1200x600 with 1 Axes>"
      ]
     },
     "metadata": {},
     "output_type": "display_data"
    }
   ],
   "source": [
    "# Filtering the data to remove extreme outliers for visualization\n",
    "filtered_compensation_data = compensation_data[(compensation_data >= 1000) & (compensation_data <= 250000)]\n",
    "\n",
    "# Re-plotting the distribution\n",
    "plt.figure(figsize=(12, 6))\n",
    "sns.histplot(filtered_compensation_data, bins=100, kde=True)\n",
    "plt.title('Distribution of Annual Compensation')\n",
    "plt.xlabel('Annual Compensation')\n",
    "plt.ylabel('Number of Respondents')\n",
    "plt.show()\n"
   ]
  },
  {
   "cell_type": "markdown",
   "id": "07239c78",
   "metadata": {},
   "source": [
    "The distribution of annual compensation is right-skewed, with many respondents in the lower compensation brackets and fewer in the higher ones.\n",
    "To create meaningful classification brackets for \"Compensation Level\", we will use quantiles (percentiles):\n",
    "\n",
    "**Low:** Compensation below the 25th percentile<br />\n",
    "**Medium**: Compensation between the 25th and 75th percentiles<br />\n",
    "**High:** Compensation above the 75th percentile."
   ]
  },
  {
   "cell_type": "markdown",
   "id": "0a0d8873",
   "metadata": {},
   "source": [
    "## Step 1: Define Compensation Brackets\n",
    "\n",
    "To classify respondents into compensation levels, we first need to define the boundaries of these levels. Using the data's distribution, we can employ quantiles (percentiles) to segment the data. This method ensures that each category will contain a roughly equal number of respondents, making our classification task more balanced.\n",
    "\n",
    "Let's calculate the 25th and 75th percentiles to determine our \"Low\", \"Medium\", and \"High\" compensation brackets."
   ]
  },
  {
   "cell_type": "code",
   "execution_count": 60,
   "id": "595ff2e3",
   "metadata": {},
   "outputs": [
    {
     "data": {
      "text/plain": [
       "(44552.0, 117797.0)"
      ]
     },
     "execution_count": 60,
     "metadata": {},
     "output_type": "execute_result"
    }
   ],
   "source": [
    "# Calculate the 25th and 75th percentiles for the compensation data\n",
    "\n",
    "lower_bound = filtered_compensation_data.quantile(0.25)\n",
    "upper_bound = filtered_compensation_data.quantile(0.75)\n",
    "\n",
    "lower_bound, upper_bound\n"
   ]
  },
  {
   "cell_type": "markdown",
   "id": "0d822727",
   "metadata": {},
   "source": [
    "## Step 2: Data Cleaning and Preparation\n",
    "\n",
    "Before we can use the data for modeling, it needs to be cleaned and prepared. This includes handling missing values, encoding categorical variables, and creating our target variable based on the compensation brackets we've defined.\n",
    "\n",
    "Let's create a new column, CompensationLevel, to represent our target variable. We'll then categorize each respondent into one of the three levels based on their ConvertedCompYearly value."
   ]
  },
  {
   "cell_type": "code",
   "execution_count": 61,
   "id": "a1371240",
   "metadata": {},
   "outputs": [
    {
     "data": {
      "text/plain": [
       "NaN       41165\n",
       "Medium    22846\n",
       "High      13066\n",
       "Low       12107\n",
       "Name: CompensationLevel, dtype: int64"
      ]
     },
     "execution_count": 61,
     "metadata": {},
     "output_type": "execute_result"
    }
   ],
   "source": [
    "# Create the CompensationLevel column based on the defined brackets\n",
    "\n",
    "data['CompensationLevel'] = pd.cut(data['ConvertedCompYearly'], \n",
    "                                   bins=[0, lower_bound, upper_bound, float('inf')], \n",
    "                                   labels=['Low', 'Medium', 'High'], \n",
    "                                   right=False)\n",
    "\n",
    "# Check the distribution of the new CompensationLevel column\n",
    "compensation_level_distribution = data['CompensationLevel'].value_counts(dropna=False)\n",
    "compensation_level_distribution\n"
   ]
  },
  {
   "cell_type": "markdown",
   "id": "cf415a90",
   "metadata": {},
   "source": [
    "The distribution for the CompensationLevel column is as follows:\n",
    "\n",
    "**NaN (Missing):** 41,165 entries<br />\n",
    "**Medium Compensation:**  22,846 entries<br />\n",
    "**High Compensation:**  13,066 entries<br />\n",
    "**Low Compensation:**  12,107 entries<br />\n",
    "\n",
    "The NaN values represent missing data in the ConvertedCompYearly column. For the purpose of classification, we will need to handle these missing values, either by imputing them or excluding them from our dataset."
   ]
  },
  {
   "cell_type": "markdown",
   "id": "85d4a878",
   "metadata": {},
   "source": [
    "## Step 3: Feature Selection and Engineering\n",
    "\n",
    "In this step, we'll identify columns that could be relevant predictors for a respondent's compensation level. Features such as years of experience, country of residence, education level, and primary field of study are likely to influence compensation. Additionally, we might need to encode categorical features and normalize numerical ones to make them suitable for machine learning algorithms.\n",
    "\n",
    "**3.1: Select Relevant Features**\n",
    "\n",
    "Let's start by selecting a subset of columns that we believe could be relevant predictors. We'll also inspect these columns for any preliminary cleaning or transformation they might require."
   ]
  },
  {
   "cell_type": "code",
   "execution_count": 62,
   "id": "631e484d",
   "metadata": {},
   "outputs": [
    {
     "data": {
      "text/html": [
       "<div>\n",
       "<style scoped>\n",
       "    .dataframe tbody tr th:only-of-type {\n",
       "        vertical-align: middle;\n",
       "    }\n",
       "\n",
       "    .dataframe tbody tr th {\n",
       "        vertical-align: top;\n",
       "    }\n",
       "\n",
       "    .dataframe thead th {\n",
       "        text-align: right;\n",
       "    }\n",
       "</style>\n",
       "<table border=\"1\" class=\"dataframe\">\n",
       "  <thead>\n",
       "    <tr style=\"text-align: right;\">\n",
       "      <th></th>\n",
       "      <th>Country</th>\n",
       "      <th>Age</th>\n",
       "      <th>EdLevel</th>\n",
       "      <th>YearsCode</th>\n",
       "      <th>YearsCodePro</th>\n",
       "      <th>DevType</th>\n",
       "      <th>OrgSize</th>\n",
       "      <th>TechList</th>\n",
       "      <th>CompensationLevel</th>\n",
       "    </tr>\n",
       "  </thead>\n",
       "  <tbody>\n",
       "    <tr>\n",
       "      <th>0</th>\n",
       "      <td>NaN</td>\n",
       "      <td>18-24 years old</td>\n",
       "      <td>NaN</td>\n",
       "      <td>NaN</td>\n",
       "      <td>NaN</td>\n",
       "      <td>NaN</td>\n",
       "      <td>NaN</td>\n",
       "      <td>NaN</td>\n",
       "      <td>NaN</td>\n",
       "    </tr>\n",
       "    <tr>\n",
       "      <th>1</th>\n",
       "      <td>United States of America</td>\n",
       "      <td>25-34 years old</td>\n",
       "      <td>Bachelor’s degree (B.A., B.S., B.Eng., etc.)</td>\n",
       "      <td>18</td>\n",
       "      <td>9</td>\n",
       "      <td>Senior Executive (C-Suite, VP, etc.)</td>\n",
       "      <td>2 to 9 employees</td>\n",
       "      <td>Investigate</td>\n",
       "      <td>High</td>\n",
       "    </tr>\n",
       "    <tr>\n",
       "      <th>2</th>\n",
       "      <td>United States of America</td>\n",
       "      <td>45-54 years old</td>\n",
       "      <td>Bachelor’s degree (B.A., B.S., B.Eng., etc.)</td>\n",
       "      <td>27</td>\n",
       "      <td>23</td>\n",
       "      <td>Developer, back-end</td>\n",
       "      <td>5,000 to 9,999 employees</td>\n",
       "      <td>Given a list</td>\n",
       "      <td>High</td>\n",
       "    </tr>\n",
       "    <tr>\n",
       "      <th>3</th>\n",
       "      <td>United States of America</td>\n",
       "      <td>25-34 years old</td>\n",
       "      <td>Bachelor’s degree (B.A., B.S., B.Eng., etc.)</td>\n",
       "      <td>12</td>\n",
       "      <td>7</td>\n",
       "      <td>Developer, front-end</td>\n",
       "      <td>100 to 499 employees</td>\n",
       "      <td>Investigate</td>\n",
       "      <td>High</td>\n",
       "    </tr>\n",
       "    <tr>\n",
       "      <th>4</th>\n",
       "      <td>Philippines</td>\n",
       "      <td>25-34 years old</td>\n",
       "      <td>Bachelor’s degree (B.A., B.S., B.Eng., etc.)</td>\n",
       "      <td>6</td>\n",
       "      <td>4</td>\n",
       "      <td>Developer, full-stack</td>\n",
       "      <td>20 to 99 employees</td>\n",
       "      <td>Investigate</td>\n",
       "      <td>Low</td>\n",
       "    </tr>\n",
       "  </tbody>\n",
       "</table>\n",
       "</div>"
      ],
      "text/plain": [
       "                    Country              Age  \\\n",
       "0                       NaN  18-24 years old   \n",
       "1  United States of America  25-34 years old   \n",
       "2  United States of America  45-54 years old   \n",
       "3  United States of America  25-34 years old   \n",
       "4               Philippines  25-34 years old   \n",
       "\n",
       "                                        EdLevel YearsCode YearsCodePro  \\\n",
       "0                                           NaN       NaN          NaN   \n",
       "1  Bachelor’s degree (B.A., B.S., B.Eng., etc.)        18            9   \n",
       "2  Bachelor’s degree (B.A., B.S., B.Eng., etc.)        27           23   \n",
       "3  Bachelor’s degree (B.A., B.S., B.Eng., etc.)        12            7   \n",
       "4  Bachelor’s degree (B.A., B.S., B.Eng., etc.)         6            4   \n",
       "\n",
       "                                DevType                   OrgSize  \\\n",
       "0                                   NaN                       NaN   \n",
       "1  Senior Executive (C-Suite, VP, etc.)          2 to 9 employees   \n",
       "2                   Developer, back-end  5,000 to 9,999 employees   \n",
       "3                  Developer, front-end      100 to 499 employees   \n",
       "4                 Developer, full-stack        20 to 99 employees   \n",
       "\n",
       "       TechList CompensationLevel  \n",
       "0           NaN               NaN  \n",
       "1   Investigate              High  \n",
       "2  Given a list              High  \n",
       "3   Investigate              High  \n",
       "4   Investigate               Low  "
      ]
     },
     "execution_count": 62,
     "metadata": {},
     "output_type": "execute_result"
    }
   ],
   "source": [
    "# Selecting a subset of potentially relevant columns\n",
    "selected_features = [\n",
    "    'Country', 'Age', 'EdLevel', 'YearsCode', 'YearsCodePro', 'DevType', 'OrgSize', 'TechList'\n",
    "]\n",
    "\n",
    "# Extracting these columns from the dataset along with the target variable\n",
    "subset_data = data[selected_features + ['CompensationLevel']].copy()\n",
    "\n",
    "# Display the first few rows of the selected subset\n",
    "subset_data_head = subset_data.head()\n",
    "\n",
    "subset_data_head\n"
   ]
  },
  {
   "cell_type": "markdown",
   "id": "903b901a",
   "metadata": {},
   "source": [
    "The table above presents the selected features, including 'Country', 'Age', 'EdLevel', 'YearsCode', 'YearsCodePro', 'DevType', 'OrgSize', and 'TechList'. Additionally, the CompensationLevel column classifies respondents' annual compensation into \"Low\", \"Medium\", or \"High\" categories based on the previously defined percentiles."
   ]
  },
  {
   "cell_type": "markdown",
   "id": "88cdb8b0",
   "metadata": {},
   "source": [
    "## 3.2: Handle Missing Values\n",
    "\n",
    "Missing data can affect the performance of machine learning models. Different strategies can be used to handle missing values, such as imputation (filling in missing values) or removing rows with missing data. The choice of strategy often depends on the nature and amount of the missing data.\n",
    "\n",
    "Let's start by checking for missing values in our selected features."
   ]
  },
  {
   "cell_type": "code",
   "execution_count": 63,
   "id": "849e1ff5",
   "metadata": {},
   "outputs": [
    {
     "data": {
      "text/plain": [
       "Country               1211\n",
       "Age                      0\n",
       "EdLevel               1211\n",
       "YearsCode             1749\n",
       "YearsCodePro         23048\n",
       "DevType              12312\n",
       "OrgSize              24141\n",
       "TechList             28333\n",
       "CompensationLevel    41165\n",
       "dtype: int64"
      ]
     },
     "execution_count": 63,
     "metadata": {},
     "output_type": "execute_result"
    }
   ],
   "source": [
    "# Check for missing values in the subset_data\n",
    "missing_values = subset_data.isnull().sum()\n",
    "\n",
    "missing_values\n"
   ]
  },
  {
   "cell_type": "markdown",
   "id": "7cb4b028",
   "metadata": {},
   "source": [
    "Given the significant amount of missing data in certain columns, we need to decide on a strategy for each:\n",
    "\n",
    "1. For columns like Country, EdLevel, and YearsCode with relatively fewer missing entries, we can either impute using a common strategy (like mode) or remove those rows.\n",
    "2. For columns like YearsCodePro, DevType, OrgSize, and TechList with a more substantial amount of missing data, we might consider encoding the missing values as a separate category (e.g., \"Unknown\" or \"Not Provided\").\n",
    "3. For the target column CompensationLevel, since we cannot impute the class labels without introducing bias, we should remove rows with missing values."
   ]
  },
  {
   "cell_type": "markdown",
   "id": "1babda6b",
   "metadata": {},
   "source": [
    "### 3.2.1: Impute or Remove Missing Values for Selected Columns\n",
    "\n",
    "For columns with relatively fewer missing entries, we can either fill in the missing values or remove those specific rows. Given the data's nature, we'll use the mode (most frequent value) for categorical columns and median for numerical columns, as these are robust measures that are less influenced by outliers.\n",
    "\n",
    "Let's start by imputing missing values for Country, EdLevel, and YearsCode."
   ]
  },
  {
   "cell_type": "code",
   "execution_count": 64,
   "id": "cf1da1e9",
   "metadata": {},
   "outputs": [
    {
     "data": {
      "text/plain": [
       "Country               1211\n",
       "Age                      0\n",
       "EdLevel               1211\n",
       "YearsCode                0\n",
       "YearsCodePro         23048\n",
       "DevType              12312\n",
       "OrgSize              24141\n",
       "TechList             28333\n",
       "CompensationLevel    41165\n",
       "dtype: int64"
      ]
     },
     "execution_count": 64,
     "metadata": {},
     "output_type": "execute_result"
    }
   ],
   "source": [
    "# Convert textual representations to numeric values\n",
    "subset_data['YearsCode'].replace({'Less than 1 year': '0', 'More than 50 years': '51'}, inplace=True)\n",
    "\n",
    "# Convert the entire column to numeric datatype\n",
    "subset_data['YearsCode'] = pd.to_numeric(subset_data['YearsCode'], errors='coerce')\n",
    "\n",
    "# Impute missing values with median\n",
    "subset_data['YearsCode'].fillna(subset_data['YearsCode'].median(), inplace=True)\n",
    "\n",
    "# Check remaining missing values again\n",
    "remaining_missing_values = subset_data.isnull().sum()\n",
    "\n",
    "remaining_missing_values\n"
   ]
  },
  {
   "cell_type": "markdown",
   "id": "c591f376",
   "metadata": {},
   "source": [
    "As seen in the updated missing values summary:\n",
    "\n",
    "YearsCodePro, DevType, OrgSize, and TechList have substantial missing data. As discussed, we can consider encoding these missing values as a separate category, such as \"Not Provided\" or \"Unknown\".\n",
    "We will handle the missing values in the target column CompensationLevel later by excluding those records from our dataset.\n"
   ]
  },
  {
   "cell_type": "markdown",
   "id": "553bfb84",
   "metadata": {},
   "source": [
    "### 3.2.2: Encode Missing Values for Columns with Substantial Missing Data\n",
    "\n",
    "For columns with a significant amount of missing data, introducing a new category like \"Not Provided\" or \"Unknown\" can be useful. This allows us to retain the records without introducing potential biases through imputation. The new category effectively becomes an additional feature for the model, capturing the absence of information."
   ]
  },
  {
   "cell_type": "code",
   "execution_count": 65,
   "id": "adb8c133",
   "metadata": {},
   "outputs": [
    {
     "data": {
      "text/plain": [
       "Country               1211\n",
       "Age                      0\n",
       "EdLevel               1211\n",
       "YearsCode                0\n",
       "YearsCodePro             0\n",
       "DevType                  0\n",
       "OrgSize                  0\n",
       "TechList                 0\n",
       "CompensationLevel    41165\n",
       "dtype: int64"
      ]
     },
     "execution_count": 65,
     "metadata": {},
     "output_type": "execute_result"
    }
   ],
   "source": [
    "# Encode missing values as \"Not Provided\"\n",
    "columns_with_high_missing = ['YearsCodePro', 'DevType', 'OrgSize', 'TechList']\n",
    "for col in columns_with_high_missing:\n",
    "    subset_data[col].fillna('Not Provided', inplace=True)\n",
    "\n",
    "# Check for any remaining missing values\n",
    "remaining_missing_values = subset_data.isnull().sum()\n",
    "\n",
    "remaining_missing_values\n"
   ]
  },
  {
   "cell_type": "markdown",
   "id": "d5ea8eb2",
   "metadata": {},
   "source": [
    "The missing values for YearsCodePro, DevType, OrgSize, and TechList have been successfully encoded as \"Not Provided\".\n",
    "\n",
    "\n",
    "Considering the nature of the dataset (results from a survey), and the fact that the missing values in 'CompensationLevel' are likely not missing completely at random, we'll use a combination of techniques:\n",
    "\n",
    "1. Impute the 'Country' and 'EdLevel' columns with the mode since they have a relatively smaller number of missing values.\n",
    "2. Retain the rows where 'CompensationLevel' is not missing. \n",
    "\n"
   ]
  },
  {
   "cell_type": "code",
   "execution_count": 66,
   "id": "8940f041",
   "metadata": {},
   "outputs": [
    {
     "name": "stdout",
     "output_type": "stream",
     "text": [
      "Country              0\n",
      "Age                  0\n",
      "EdLevel              0\n",
      "YearsCode            0\n",
      "YearsCodePro         0\n",
      "DevType              0\n",
      "OrgSize              0\n",
      "TechList             0\n",
      "CompensationLevel    0\n",
      "dtype: int64\n"
     ]
    }
   ],
   "source": [
    "# Impute 'Country' and 'EdLevel' with mode\n",
    "subset_data['Country'].fillna(subset_data['Country'].mode()[0], inplace=True)\n",
    "subset_data['EdLevel'].fillna(subset_data['EdLevel'].mode()[0], inplace=True)\n",
    "\n",
    "# Retain rows where 'CompensationLevel' is not missing\n",
    "subset_data = subset_data.dropna(subset=['CompensationLevel'])\n",
    "\n",
    "# Check the remaining missing values\n",
    "remaining_missing_values = subset_data.isnull().sum()\n",
    "print(remaining_missing_values)\n"
   ]
  },
  {
   "cell_type": "markdown",
   "id": "468ab052",
   "metadata": {},
   "source": [
    "## 3.3: Encode Categorical Variables with Label Encoding\n",
    "\n",
    "Label encoding involves converting each value in a column to a number. For example, in a column with values \"Low\", \"Medium\", and \"High\", label encoding might represent them as 0, 1, and 2, respectively. This method is quick and straightforward, but it does introduce an ordinal relationship that might not be present in the original data. This is something to be mindful of when using certain algorithms.\n",
    "\n",
    "Let's proceed with label encoding the categorical columns in our dataset."
   ]
  },
  {
   "cell_type": "code",
   "execution_count": 67,
   "id": "b01b7103",
   "metadata": {},
   "outputs": [
    {
     "data": {
      "text/html": [
       "<div>\n",
       "<style scoped>\n",
       "    .dataframe tbody tr th:only-of-type {\n",
       "        vertical-align: middle;\n",
       "    }\n",
       "\n",
       "    .dataframe tbody tr th {\n",
       "        vertical-align: top;\n",
       "    }\n",
       "\n",
       "    .dataframe thead th {\n",
       "        text-align: right;\n",
       "    }\n",
       "</style>\n",
       "<table border=\"1\" class=\"dataframe\">\n",
       "  <thead>\n",
       "    <tr style=\"text-align: right;\">\n",
       "      <th></th>\n",
       "      <th>Country</th>\n",
       "      <th>Age</th>\n",
       "      <th>EdLevel</th>\n",
       "      <th>YearsCode</th>\n",
       "      <th>YearsCodePro</th>\n",
       "      <th>DevType</th>\n",
       "      <th>OrgSize</th>\n",
       "      <th>TechList</th>\n",
       "      <th>CompensationLevel</th>\n",
       "    </tr>\n",
       "  </thead>\n",
       "  <tbody>\n",
       "    <tr>\n",
       "      <th>1</th>\n",
       "      <td>163</td>\n",
       "      <td>1</td>\n",
       "      <td>1</td>\n",
       "      <td>18.0</td>\n",
       "      <td>49</td>\n",
       "      <td>31</td>\n",
       "      <td>4</td>\n",
       "      <td>1</td>\n",
       "      <td>High</td>\n",
       "    </tr>\n",
       "    <tr>\n",
       "      <th>2</th>\n",
       "      <td>163</td>\n",
       "      <td>3</td>\n",
       "      <td>1</td>\n",
       "      <td>27.0</td>\n",
       "      <td>15</td>\n",
       "      <td>11</td>\n",
       "      <td>6</td>\n",
       "      <td>0</td>\n",
       "      <td>High</td>\n",
       "    </tr>\n",
       "    <tr>\n",
       "      <th>3</th>\n",
       "      <td>163</td>\n",
       "      <td>1</td>\n",
       "      <td>1</td>\n",
       "      <td>12.0</td>\n",
       "      <td>47</td>\n",
       "      <td>14</td>\n",
       "      <td>3</td>\n",
       "      <td>1</td>\n",
       "      <td>High</td>\n",
       "    </tr>\n",
       "    <tr>\n",
       "      <th>4</th>\n",
       "      <td>119</td>\n",
       "      <td>1</td>\n",
       "      <td>1</td>\n",
       "      <td>6.0</td>\n",
       "      <td>33</td>\n",
       "      <td>15</td>\n",
       "      <td>5</td>\n",
       "      <td>1</td>\n",
       "      <td>Low</td>\n",
       "    </tr>\n",
       "    <tr>\n",
       "      <th>5</th>\n",
       "      <td>161</td>\n",
       "      <td>2</td>\n",
       "      <td>6</td>\n",
       "      <td>21.0</td>\n",
       "      <td>13</td>\n",
       "      <td>11</td>\n",
       "      <td>3</td>\n",
       "      <td>2</td>\n",
       "      <td>Medium</td>\n",
       "    </tr>\n",
       "  </tbody>\n",
       "</table>\n",
       "</div>"
      ],
      "text/plain": [
       "   Country  Age  EdLevel  YearsCode  YearsCodePro  DevType  OrgSize  TechList  \\\n",
       "1      163    1        1       18.0            49       31        4         1   \n",
       "2      163    3        1       27.0            15       11        6         0   \n",
       "3      163    1        1       12.0            47       14        3         1   \n",
       "4      119    1        1        6.0            33       15        5         1   \n",
       "5      161    2        6       21.0            13       11        3         2   \n",
       "\n",
       "  CompensationLevel  \n",
       "1              High  \n",
       "2              High  \n",
       "3              High  \n",
       "4               Low  \n",
       "5            Medium  "
      ]
     },
     "execution_count": 67,
     "metadata": {},
     "output_type": "execute_result"
    }
   ],
   "source": [
    "from sklearn.preprocessing import LabelEncoder\n",
    "\n",
    "# Instantiate the label encoder\n",
    "label_encoders = {}\n",
    "\n",
    "# Encode categorical columns using label encoding\n",
    "for col in subset_data.select_dtypes(include=['object']).columns:\n",
    "    le = LabelEncoder()\n",
    "    subset_data[col] = le.fit_transform(subset_data[col])\n",
    "    label_encoders[col] = le  # Storing the encoder for potential inverse transformations later\n",
    "\n",
    "# Display the first few rows of the encoded dataset\n",
    "encoded_subset_data_head = subset_data.head()\n",
    "\n",
    "encoded_subset_data_head\n"
   ]
  },
  {
   "cell_type": "markdown",
   "id": "b2066ccc",
   "metadata": {},
   "source": [
    "The categorical columns have been successfully label-encoded.\n",
    "\n",
    "\n",
    "The table now presents the selected features with their encoded values. For example, the Country column has been transformed from country names to numerical labels. We've stored each label encoder in the label_encoders dictionary, allowing us to potentially reverse the encoding later if needed.\n",
    "\n",
    "The next steps involve further feature engineering and data transformation to prepare our dataset for machine learning algorithms. This might include:\n",
    "\n",
    "* Parsing the TechList column to create binary columns for each technology (if it has multiple entries separated by semicolons or other delimiters).\n",
    "* Normalizing numerical features to ensure they're on a similar scale.\n",
    "* Splitting the data into training and testing sets.\n"
   ]
  },
  {
   "cell_type": "markdown",
   "id": "55224d4c",
   "metadata": {},
   "source": [
    "## 3.4: Feature Engineering and Transformation\n",
    "\n",
    "Feature engineering involves creating new features or modifying existing ones to better represent the underlying patterns in the data. This step can significantly improve model performance.\n",
    "\n",
    "For this dataset, the TechList column seems to contain multiple technologies separated by semicolons. We can create binary columns for each technology to better represent this data. Additionally, we'll normalize numerical columns to ensure they're on a similar scale.\n",
    "\n",
    "### 3.4.1: Parse TechList Column\n",
    "Let's start by parsing the TechList column and creating binary columns for each technology."
   ]
  },
  {
   "cell_type": "code",
   "execution_count": 68,
   "id": "d1a9e01e",
   "metadata": {},
   "outputs": [
    {
     "data": {
      "text/html": [
       "<div>\n",
       "<style scoped>\n",
       "    .dataframe tbody tr th:only-of-type {\n",
       "        vertical-align: middle;\n",
       "    }\n",
       "\n",
       "    .dataframe tbody tr th {\n",
       "        vertical-align: top;\n",
       "    }\n",
       "\n",
       "    .dataframe thead th {\n",
       "        text-align: right;\n",
       "    }\n",
       "</style>\n",
       "<table border=\"1\" class=\"dataframe\">\n",
       "  <thead>\n",
       "    <tr style=\"text-align: right;\">\n",
       "      <th></th>\n",
       "      <th>Country</th>\n",
       "      <th>Age</th>\n",
       "      <th>EdLevel</th>\n",
       "      <th>YearsCode</th>\n",
       "      <th>YearsCodePro</th>\n",
       "      <th>DevType</th>\n",
       "      <th>OrgSize</th>\n",
       "      <th>CompensationLevel</th>\n",
       "      <th>0</th>\n",
       "      <th>1</th>\n",
       "      <th>2</th>\n",
       "      <th>3</th>\n",
       "    </tr>\n",
       "  </thead>\n",
       "  <tbody>\n",
       "    <tr>\n",
       "      <th>1</th>\n",
       "      <td>163</td>\n",
       "      <td>1</td>\n",
       "      <td>1</td>\n",
       "      <td>18.0</td>\n",
       "      <td>49</td>\n",
       "      <td>31</td>\n",
       "      <td>4</td>\n",
       "      <td>High</td>\n",
       "      <td>0</td>\n",
       "      <td>1</td>\n",
       "      <td>0</td>\n",
       "      <td>0</td>\n",
       "    </tr>\n",
       "    <tr>\n",
       "      <th>2</th>\n",
       "      <td>163</td>\n",
       "      <td>3</td>\n",
       "      <td>1</td>\n",
       "      <td>27.0</td>\n",
       "      <td>15</td>\n",
       "      <td>11</td>\n",
       "      <td>6</td>\n",
       "      <td>High</td>\n",
       "      <td>1</td>\n",
       "      <td>0</td>\n",
       "      <td>0</td>\n",
       "      <td>0</td>\n",
       "    </tr>\n",
       "    <tr>\n",
       "      <th>3</th>\n",
       "      <td>163</td>\n",
       "      <td>1</td>\n",
       "      <td>1</td>\n",
       "      <td>12.0</td>\n",
       "      <td>47</td>\n",
       "      <td>14</td>\n",
       "      <td>3</td>\n",
       "      <td>High</td>\n",
       "      <td>0</td>\n",
       "      <td>1</td>\n",
       "      <td>0</td>\n",
       "      <td>0</td>\n",
       "    </tr>\n",
       "    <tr>\n",
       "      <th>4</th>\n",
       "      <td>119</td>\n",
       "      <td>1</td>\n",
       "      <td>1</td>\n",
       "      <td>6.0</td>\n",
       "      <td>33</td>\n",
       "      <td>15</td>\n",
       "      <td>5</td>\n",
       "      <td>Low</td>\n",
       "      <td>0</td>\n",
       "      <td>1</td>\n",
       "      <td>0</td>\n",
       "      <td>0</td>\n",
       "    </tr>\n",
       "    <tr>\n",
       "      <th>5</th>\n",
       "      <td>161</td>\n",
       "      <td>2</td>\n",
       "      <td>6</td>\n",
       "      <td>21.0</td>\n",
       "      <td>13</td>\n",
       "      <td>11</td>\n",
       "      <td>3</td>\n",
       "      <td>Medium</td>\n",
       "      <td>0</td>\n",
       "      <td>0</td>\n",
       "      <td>1</td>\n",
       "      <td>0</td>\n",
       "    </tr>\n",
       "  </tbody>\n",
       "</table>\n",
       "</div>"
      ],
      "text/plain": [
       "   Country  Age  EdLevel  YearsCode  YearsCodePro  DevType  OrgSize  \\\n",
       "1      163    1        1       18.0            49       31        4   \n",
       "2      163    3        1       27.0            15       11        6   \n",
       "3      163    1        1       12.0            47       14        3   \n",
       "4      119    1        1        6.0            33       15        5   \n",
       "5      161    2        6       21.0            13       11        3   \n",
       "\n",
       "  CompensationLevel  0  1  2  3  \n",
       "1              High  0  1  0  0  \n",
       "2              High  1  0  0  0  \n",
       "3              High  0  1  0  0  \n",
       "4               Low  0  1  0  0  \n",
       "5            Medium  0  0  1  0  "
      ]
     },
     "execution_count": 68,
     "metadata": {},
     "output_type": "execute_result"
    }
   ],
   "source": [
    "# Convert the 'TechList' column to string type\n",
    "subset_data['TechList'] = subset_data['TechList'].astype(str)\n",
    "\n",
    "# Parse the 'TechList' column to create binary columns for each technology\n",
    "tech_dummies = subset_data['TechList'].str.get_dummies(sep=';')\n",
    "\n",
    "# Drop the original 'TechList' column and append the new binary columns\n",
    "subset_data = pd.concat([subset_data.drop('TechList', axis=1), tech_dummies], axis=1)\n",
    "\n",
    "# Display the first few rows of the transformed dataset\n",
    "transformed_subset_data_head = subset_data.head()\n",
    "\n",
    "transformed_subset_data_head\n"
   ]
  },
  {
   "cell_type": "markdown",
   "id": "e835d648",
   "metadata": {},
   "source": [
    "The TechList column has been successfully parsed, and binary columns have been created for each technology.\n",
    "\n",
    "\n",
    "The new binary columns represent different technologies that respondents have indicated familiarity with. Each column has a value of 1 if the respondent is familiar with that technology and 0 otherwise.\n",
    "\n",
    "### 3.4.2: Normalize Numerical Features\n",
    "\n",
    "Normalization is the process of scaling numeric features to have a mean of 0 and a standard deviation of 1. This ensures that all numeric features contribute equally to the performance of algorithms, especially those sensitive to feature scales like gradient descent-based methods or distance-based algorithms.\n",
    "\n",
    "We'll use the StandardScaler from scikit-learn to normalize our numeric columns.\n"
   ]
  },
  {
   "cell_type": "code",
   "execution_count": 69,
   "id": "45ca8d14",
   "metadata": {},
   "outputs": [
    {
     "data": {
      "text/html": [
       "<div>\n",
       "<style scoped>\n",
       "    .dataframe tbody tr th:only-of-type {\n",
       "        vertical-align: middle;\n",
       "    }\n",
       "\n",
       "    .dataframe tbody tr th {\n",
       "        vertical-align: top;\n",
       "    }\n",
       "\n",
       "    .dataframe thead th {\n",
       "        text-align: right;\n",
       "    }\n",
       "</style>\n",
       "<table border=\"1\" class=\"dataframe\">\n",
       "  <thead>\n",
       "    <tr style=\"text-align: right;\">\n",
       "      <th></th>\n",
       "      <th>Country</th>\n",
       "      <th>Age</th>\n",
       "      <th>EdLevel</th>\n",
       "      <th>YearsCode</th>\n",
       "      <th>YearsCodePro</th>\n",
       "      <th>DevType</th>\n",
       "      <th>OrgSize</th>\n",
       "      <th>CompensationLevel</th>\n",
       "      <th>0</th>\n",
       "      <th>1</th>\n",
       "      <th>2</th>\n",
       "      <th>3</th>\n",
       "    </tr>\n",
       "  </thead>\n",
       "  <tbody>\n",
       "    <tr>\n",
       "      <th>1</th>\n",
       "      <td>1.080945</td>\n",
       "      <td>-0.535685</td>\n",
       "      <td>-0.673255</td>\n",
       "      <td>0.236892</td>\n",
       "      <td>1.422867</td>\n",
       "      <td>2.855297</td>\n",
       "      <td>0.164816</td>\n",
       "      <td>High</td>\n",
       "      <td>-0.242838</td>\n",
       "      <td>0.876247</td>\n",
       "      <td>-0.755165</td>\n",
       "      <td>-0.125364</td>\n",
       "    </tr>\n",
       "    <tr>\n",
       "      <th>2</th>\n",
       "      <td>1.080945</td>\n",
       "      <td>1.451803</td>\n",
       "      <td>-0.673255</td>\n",
       "      <td>1.148537</td>\n",
       "      <td>-0.449215</td>\n",
       "      <td>-0.590402</td>\n",
       "      <td>1.016917</td>\n",
       "      <td>High</td>\n",
       "      <td>4.117978</td>\n",
       "      <td>-1.141230</td>\n",
       "      <td>-0.755165</td>\n",
       "      <td>-0.125364</td>\n",
       "    </tr>\n",
       "    <tr>\n",
       "      <th>3</th>\n",
       "      <td>1.080945</td>\n",
       "      <td>-0.535685</td>\n",
       "      <td>-0.673255</td>\n",
       "      <td>-0.370872</td>\n",
       "      <td>1.312745</td>\n",
       "      <td>-0.073547</td>\n",
       "      <td>-0.261234</td>\n",
       "      <td>High</td>\n",
       "      <td>-0.242838</td>\n",
       "      <td>0.876247</td>\n",
       "      <td>-0.755165</td>\n",
       "      <td>-0.125364</td>\n",
       "    </tr>\n",
       "    <tr>\n",
       "      <th>4</th>\n",
       "      <td>0.287853</td>\n",
       "      <td>-0.535685</td>\n",
       "      <td>-0.673255</td>\n",
       "      <td>-0.978635</td>\n",
       "      <td>0.541888</td>\n",
       "      <td>0.098738</td>\n",
       "      <td>0.590867</td>\n",
       "      <td>Low</td>\n",
       "      <td>-0.242838</td>\n",
       "      <td>0.876247</td>\n",
       "      <td>-0.755165</td>\n",
       "      <td>-0.125364</td>\n",
       "    </tr>\n",
       "    <tr>\n",
       "      <th>5</th>\n",
       "      <td>1.044895</td>\n",
       "      <td>0.458059</td>\n",
       "      <td>2.080216</td>\n",
       "      <td>0.540774</td>\n",
       "      <td>-0.559337</td>\n",
       "      <td>-0.590402</td>\n",
       "      <td>-0.261234</td>\n",
       "      <td>Medium</td>\n",
       "      <td>-0.242838</td>\n",
       "      <td>-1.141230</td>\n",
       "      <td>1.324213</td>\n",
       "      <td>-0.125364</td>\n",
       "    </tr>\n",
       "  </tbody>\n",
       "</table>\n",
       "</div>"
      ],
      "text/plain": [
       "    Country       Age   EdLevel  YearsCode  YearsCodePro   DevType   OrgSize  \\\n",
       "1  1.080945 -0.535685 -0.673255   0.236892      1.422867  2.855297  0.164816   \n",
       "2  1.080945  1.451803 -0.673255   1.148537     -0.449215 -0.590402  1.016917   \n",
       "3  1.080945 -0.535685 -0.673255  -0.370872      1.312745 -0.073547 -0.261234   \n",
       "4  0.287853 -0.535685 -0.673255  -0.978635      0.541888  0.098738  0.590867   \n",
       "5  1.044895  0.458059  2.080216   0.540774     -0.559337 -0.590402 -0.261234   \n",
       "\n",
       "  CompensationLevel         0         1         2         3  \n",
       "1              High -0.242838  0.876247 -0.755165 -0.125364  \n",
       "2              High  4.117978 -1.141230 -0.755165 -0.125364  \n",
       "3              High -0.242838  0.876247 -0.755165 -0.125364  \n",
       "4               Low -0.242838  0.876247 -0.755165 -0.125364  \n",
       "5            Medium -0.242838 -1.141230  1.324213 -0.125364  "
      ]
     },
     "execution_count": 69,
     "metadata": {},
     "output_type": "execute_result"
    }
   ],
   "source": [
    "from sklearn.preprocessing import StandardScaler\n",
    "\n",
    "# Identify numerical columns\n",
    "numerical_columns = subset_data.select_dtypes(include=['float64', 'int64']).columns\n",
    "\n",
    "# Instantiate the scaler\n",
    "scaler = StandardScaler()\n",
    "\n",
    "# Normalize the numerical columns\n",
    "subset_data[numerical_columns] = scaler.fit_transform(subset_data[numerical_columns])\n",
    "\n",
    "# Display the first few rows of the normalized dataset\n",
    "normalized_subset_data_head = subset_data.head()\n",
    "\n",
    "normalized_subset_data_head\n"
   ]
  },
  {
   "cell_type": "markdown",
   "id": "2052c865",
   "metadata": {},
   "source": [
    "The table now presents the selected features with their normalized values. For example, the Country column has values around 0, which indicates they've been centered, and the standard deviation for these columns is now 1.\n",
    "\n",
    "With normalization complete, the next step is to split the data into training and testing sets, ensuring we remove any rows with missing target values in CompensationLevel."
   ]
  },
  {
   "cell_type": "markdown",
   "id": "bd063d0c",
   "metadata": {},
   "source": [
    "## 3.5: Splitting the Data into Training and Testing Sets\n",
    "\n",
    "Splitting the dataset into training and testing sets allows us to train our machine learning models on one subset and evaluate their performance on another, unseen subset. This helps ensure that our models generalize well to new data and are not just fitting the training data too closely (overfitting).\n",
    "\n",
    "Let's proceed with this step."
   ]
  },
  {
   "cell_type": "code",
   "execution_count": 70,
   "id": "1196ea81",
   "metadata": {},
   "outputs": [
    {
     "data": {
      "text/plain": [
       "{'X_train': (38415, 11),\n",
       " 'X_test': (9604, 11),\n",
       " 'y_train': (38415,),\n",
       " 'y_test': (9604,)}"
      ]
     },
     "execution_count": 70,
     "metadata": {},
     "output_type": "execute_result"
    }
   ],
   "source": [
    "from sklearn.model_selection import train_test_split\n",
    "\n",
    "# Define features and target variable\n",
    "X = subset_data.drop('CompensationLevel', axis=1)\n",
    "y = subset_data['CompensationLevel']\n",
    "\n",
    "# Split the data into training (80%) and testing (20%) sets\n",
    "X_train, X_test, y_train, y_test = train_test_split(X, y, test_size=0.2, random_state=42)\n",
    "\n",
    "# Display the shapes of the training and testing sets\n",
    "train_test_shapes = {\n",
    "    \"X_train\": X_train.shape,\n",
    "    \"X_test\": X_test.shape,\n",
    "    \"y_train\": y_train.shape,\n",
    "    \"y_test\": y_test.shape\n",
    "}\n",
    "\n",
    "train_test_shapes\n"
   ]
  },
  {
   "cell_type": "markdown",
   "id": "a3eba103",
   "metadata": {},
   "source": [
    "This means we'll train our machine learning model on 38,415 samples and then evaluate its performance on 9,604 unseen samples.\n",
    "\n",
    "With the data prepared, we can proceed to model training and evaluation. \n",
    "\n"
   ]
  },
  {
   "cell_type": "markdown",
   "id": "a9e79a8d",
   "metadata": {},
   "source": [
    "## 4.1: Model Training and Evaluation\n",
    "\n",
    "Given that our target variable, CompensationLevel, is a categorical variable with three classes (Low, Medium, High), this is a multiclass classification problem. There are various algorithms suitable for multiclass classification, including:\n",
    "\n",
    "1. Decision Trees\n",
    "2. Random Forests\n",
    "3. Gradient Boosting Machines\n",
    "4. Logistic Regression (with multinomial setting)\n",
    "5. Support Vector Machines (with appropriate kernel and settings)\n",
    "6. Neural Networks\n",
    "\n",
    "After training each model, we'll evaluate their performance on the test set and compare their metrics (like accuracy and F1-score) in a table.\n",
    "\n",
    "By comparing the performance of different models, we can understand which models are best suited for our dataset and problem. This aids in model selection and provides insights into potential areas of improvement."
   ]
  },
  {
   "cell_type": "markdown",
   "id": "4141f4be",
   "metadata": {},
   "source": [
    "**1. Decision Trees**\n",
    "\n",
    "Let's begin by training a Decision Tree classifier on our training data and evaluating its performance on the testing data."
   ]
  },
  {
   "cell_type": "code",
   "execution_count": 71,
   "id": "7bc90694",
   "metadata": {},
   "outputs": [
    {
     "data": {
      "text/plain": [
       "(0.6213036234902124, 0.6213166556483987)"
      ]
     },
     "execution_count": 71,
     "metadata": {},
     "output_type": "execute_result"
    }
   ],
   "source": [
    "from sklearn.tree import DecisionTreeClassifier\n",
    "from sklearn.metrics import accuracy_score, f1_score\n",
    "\n",
    "# Initialize the Decision Tree classifier\n",
    "dt_classifier = DecisionTreeClassifier(random_state=42)\n",
    "\n",
    "# Train the classifier on the training data\n",
    "dt_classifier.fit(X_train, y_train)\n",
    "\n",
    "# Predict on the test data\n",
    "dt_predictions = dt_classifier.predict(X_test)\n",
    "\n",
    "# Evaluate the model's performance\n",
    "dt_accuracy = accuracy_score(y_test, dt_predictions)\n",
    "dt_f1 = f1_score(y_test, dt_predictions, average='weighted')\n",
    "\n",
    "dt_accuracy, dt_f1\n"
   ]
  },
  {
   "cell_type": "markdown",
   "id": "9e4aabe2",
   "metadata": {},
   "source": [
    "The accuracy represents the proportion of correctly classified instances out of the total instances. The F1-score is a measure that takes into account both precision (the number of correct positive results divided by the number of all positive results) and recall (the number of correct positive results divided by the number of positive results that should have been returned). The weighted average of the F1-score computes this metric for each label, and the result is then averaged, taking the number of true instances for each label into account.\n",
    "\n"
   ]
  },
  {
   "cell_type": "markdown",
   "id": "cd0c655d",
   "metadata": {},
   "source": [
    "**2. Random Forests**\n",
    "\n",
    "Next, let's train a Random Forest classifier on our training data and evaluate its performance on the testing data."
   ]
  },
  {
   "cell_type": "code",
   "execution_count": 56,
   "id": "a2ada45e",
   "metadata": {},
   "outputs": [
    {
     "data": {
      "text/plain": [
       "(0.6883590170762183, 0.6866199005816039)"
      ]
     },
     "execution_count": 56,
     "metadata": {},
     "output_type": "execute_result"
    }
   ],
   "source": [
    "from sklearn.ensemble import RandomForestClassifier\n",
    "\n",
    "# Initialize the Random Forest classifier\n",
    "rf_classifier = RandomForestClassifier(random_state=42)\n",
    "\n",
    "# Train the classifier on the training data\n",
    "rf_classifier.fit(X_train, y_train)\n",
    "\n",
    "# Predict on the test data\n",
    "rf_predictions = rf_classifier.predict(X_test)\n",
    "\n",
    "# Evaluate the model's performance\n",
    "rf_accuracy = accuracy_score(y_test, rf_predictions)\n",
    "rf_f1 = f1_score(y_test, rf_predictions, average='weighted')\n",
    "\n",
    "rf_accuracy, rf_f1\n"
   ]
  },
  {
   "cell_type": "markdown",
   "id": "76a663ed",
   "metadata": {},
   "source": [
    "The Random Forest classifier, an ensemble method, shows an improvement in performance compared to the single Decision Tree."
   ]
  },
  {
   "cell_type": "markdown",
   "id": "32d4431b",
   "metadata": {},
   "source": [
    "**3. Gradient Boosting Machines (GBM)**\n",
    "\n",
    "Next, let's train a Gradient Boosting classifier and evaluate its performance. Gradient Boosting is a powerful ensemble method that builds trees sequentially, where each tree tries to correct the mistakes of the previous one."
   ]
  },
  {
   "cell_type": "code",
   "execution_count": 18,
   "id": "43fc730e",
   "metadata": {},
   "outputs": [
    {
     "data": {
      "text/plain": [
       "(0.7098084131611828, 0.7081931800620362)"
      ]
     },
     "execution_count": 18,
     "metadata": {},
     "output_type": "execute_result"
    }
   ],
   "source": [
    "from sklearn.ensemble import GradientBoostingClassifier\n",
    "\n",
    "# Initialize the Gradient Boosting classifier\n",
    "gbm_classifier = GradientBoostingClassifier(random_state=42)\n",
    "\n",
    "# Train the classifier on the training data\n",
    "gbm_classifier.fit(X_train, y_train)\n",
    "\n",
    "# Predict on the test data\n",
    "gbm_predictions = gbm_classifier.predict(X_test)\n",
    "\n",
    "# Evaluate the model's performance\n",
    "gbm_accuracy = accuracy_score(y_test, gbm_predictions)\n",
    "gbm_f1 = f1_score(y_test, gbm_predictions, average='weighted')\n",
    "\n",
    "gbm_accuracy, gbm_f1\n"
   ]
  },
  {
   "cell_type": "markdown",
   "id": "86690ced",
   "metadata": {},
   "source": [
    "The GBM classifier, with its sequential tree-building approach, outperformed both the Decision Tree and Random Forest classifiers on this dataset, indicating the benefits of boosting methods in correcting the errors of previous learners."
   ]
  },
  {
   "cell_type": "markdown",
   "id": "4e3609b9",
   "metadata": {},
   "source": [
    "**4. Logistic Regression (with multinomial setting)**\n",
    "\n",
    "Now, let's train a multinomial Logistic Regression model and evaluate its performance on the testing data."
   ]
  },
  {
   "cell_type": "code",
   "execution_count": 19,
   "id": "6b895f65",
   "metadata": {},
   "outputs": [
    {
     "data": {
      "text/plain": [
       "(0.5750728862973761, 0.5592726821212124)"
      ]
     },
     "execution_count": 19,
     "metadata": {},
     "output_type": "execute_result"
    }
   ],
   "source": [
    "from sklearn.linear_model import LogisticRegression\n",
    "\n",
    "# Initialize the Logistic Regression classifier with multinomial setting\n",
    "lr_classifier = LogisticRegression(multi_class='multinomial', max_iter=1000, random_state=42)\n",
    "\n",
    "# Train the classifier on the training data\n",
    "lr_classifier.fit(X_train, y_train)\n",
    "\n",
    "# Predict on the test data\n",
    "lr_predictions = lr_classifier.predict(X_test)\n",
    "\n",
    "# Evaluate the model's performance\n",
    "lr_accuracy = accuracy_score(y_test, lr_predictions)\n",
    "lr_f1 = f1_score(y_test, lr_predictions, average='weighted')\n",
    "\n",
    "lr_accuracy, lr_f1\n"
   ]
  },
  {
   "cell_type": "markdown",
   "id": "5e2e4dd6",
   "metadata": {},
   "source": [
    "While logistic regression is a powerful method for binary classification, its performance for this multiclass problem lags behind tree-based methods. This could be due to the linear nature of logistic regression or the need for further hyperparameter tuning.\n",
    "\n"
   ]
  },
  {
   "cell_type": "markdown",
   "id": "1cccbd9c",
   "metadata": {},
   "source": [
    "**5. Support Vector Machines (SVM)**\n",
    "\n",
    "Support Vector Machines are versatile algorithms that can be used for both classification and regression. For multiclass classification, we'll use a one-vs-one strategy: for each pair of classes, a binary classifier is learned, and predictions are made using a voting strategy.\n",
    "\n",
    "Let's train an SVM classifier on our training data and evaluate its performance on the testing data. Please note that this step might take some time due to the size of the dataset and the nature of the SVM algorithm."
   ]
  },
  {
   "cell_type": "code",
   "execution_count": 20,
   "id": "9d1ea556",
   "metadata": {},
   "outputs": [
    {
     "name": "stdout",
     "output_type": "stream",
     "text": [
      "Accuracy: 0.53, Weighted F1-Score: 0.44\n"
     ]
    }
   ],
   "source": [
    "from sklearn.svm import SVC\n",
    "from sklearn.metrics import accuracy_score, f1_score\n",
    "\n",
    "# Initialize the SVM classifier with a linear kernel and one-vs-one strategy\n",
    "svm_classifier = SVC(kernel='linear', decision_function_shape='ovo', random_state=42)\n",
    "\n",
    "# Train the classifier on the entire training data\n",
    "svm_classifier.fit(X_train, y_train)\n",
    "\n",
    "# Predict on the test data\n",
    "svm_predictions = svm_classifier.predict(X_test)\n",
    "\n",
    "# Evaluate the model's performance\n",
    "svm_accuracy = accuracy_score(y_test, svm_predictions)\n",
    "svm_f1 = f1_score(y_test, svm_predictions, average='weighted')\n",
    "\n",
    "print(f\"Accuracy: {svm_accuracy:.2f}, Weighted F1-Score: {svm_f1:.2f}\")\n"
   ]
  },
  {
   "cell_type": "markdown",
   "id": "ffe31523",
   "metadata": {},
   "source": [
    "The SVM's performance is not as high as some of the other models. The performance could potentially improve with more data and tuning, but this would also significantly increase the computational requirements."
   ]
  },
  {
   "cell_type": "markdown",
   "id": "c8818f96",
   "metadata": {},
   "source": [
    "**6. Neural Networks**\n",
    "\n",
    "Next, let's train a simple Neural Network model and evaluate its performance on the testing data. Neural networks are powerful algorithms that can capture intricate patterns in data, but they also require proper architecture design and parameter tuning. We'll start with a basic architecture for demonstration."
   ]
  },
  {
   "cell_type": "code",
   "execution_count": 21,
   "id": "ca46e124",
   "metadata": {},
   "outputs": [
    {
     "data": {
      "text/plain": [
       "(0.6632653061224489, 0.6588881130890476)"
      ]
     },
     "execution_count": 21,
     "metadata": {},
     "output_type": "execute_result"
    }
   ],
   "source": [
    "from sklearn.neural_network import MLPClassifier\n",
    "\n",
    "# Initialize a simple Neural Network with 2 hidden layers of 50 neurons each\n",
    "nn_classifier = MLPClassifier(hidden_layer_sizes=(50, 50), max_iter=500, random_state=42)\n",
    "\n",
    "# Train the classifier on the training data\n",
    "nn_classifier.fit(X_train, y_train)\n",
    "\n",
    "# Predict on the test data\n",
    "nn_predictions = nn_classifier.predict(X_test)\n",
    "\n",
    "# Evaluate the model's performance\n",
    "nn_accuracy = accuracy_score(y_test, nn_predictions)\n",
    "nn_f1 = f1_score(y_test, nn_predictions, average='weighted')\n",
    "\n",
    "nn_accuracy, nn_f1\n"
   ]
  },
  {
   "cell_type": "markdown",
   "id": "e77e911b",
   "metadata": {},
   "source": [
    "The Neural Network classifier performed reasonably well on the testing data, considering its simple architecture. With more complex architectures and hyperparameter tuning, Neural Networks can often achieve better performance, but this also comes with an increased risk of overfitting if not handled properly.\n",
    "\n",
    "**Performance Comparison**\n",
    "\n",
    "Now that we've trained multiple models, let's compile their performances into a table for easier comparison. "
   ]
  },
  {
   "cell_type": "code",
   "execution_count": 22,
   "id": "7d6c68b9",
   "metadata": {},
   "outputs": [
    {
     "data": {
      "text/html": [
       "<div>\n",
       "<style scoped>\n",
       "    .dataframe tbody tr th:only-of-type {\n",
       "        vertical-align: middle;\n",
       "    }\n",
       "\n",
       "    .dataframe tbody tr th {\n",
       "        vertical-align: top;\n",
       "    }\n",
       "\n",
       "    .dataframe thead th {\n",
       "        text-align: right;\n",
       "    }\n",
       "</style>\n",
       "<table border=\"1\" class=\"dataframe\">\n",
       "  <thead>\n",
       "    <tr style=\"text-align: right;\">\n",
       "      <th></th>\n",
       "      <th>Model</th>\n",
       "      <th>Accuracy (%)</th>\n",
       "      <th>Weighted F1-Score (%)</th>\n",
       "    </tr>\n",
       "  </thead>\n",
       "  <tbody>\n",
       "    <tr>\n",
       "      <th>0</th>\n",
       "      <td>Decision Tree</td>\n",
       "      <td>0.621512</td>\n",
       "      <td>0.621535</td>\n",
       "    </tr>\n",
       "    <tr>\n",
       "      <th>1</th>\n",
       "      <td>Random Forest</td>\n",
       "      <td>0.686589</td>\n",
       "      <td>0.684782</td>\n",
       "    </tr>\n",
       "    <tr>\n",
       "      <th>2</th>\n",
       "      <td>Gradient Boosting</td>\n",
       "      <td>0.709808</td>\n",
       "      <td>0.708193</td>\n",
       "    </tr>\n",
       "    <tr>\n",
       "      <th>3</th>\n",
       "      <td>Logistic Regression</td>\n",
       "      <td>0.575073</td>\n",
       "      <td>0.559273</td>\n",
       "    </tr>\n",
       "    <tr>\n",
       "      <th>4</th>\n",
       "      <td>SVM</td>\n",
       "      <td>0.526239</td>\n",
       "      <td>0.440921</td>\n",
       "    </tr>\n",
       "    <tr>\n",
       "      <th>5</th>\n",
       "      <td>Neural Network</td>\n",
       "      <td>0.663265</td>\n",
       "      <td>0.658888</td>\n",
       "    </tr>\n",
       "  </tbody>\n",
       "</table>\n",
       "</div>"
      ],
      "text/plain": [
       "                 Model  Accuracy (%)  Weighted F1-Score (%)\n",
       "0        Decision Tree      0.621512               0.621535\n",
       "1        Random Forest      0.686589               0.684782\n",
       "2    Gradient Boosting      0.709808               0.708193\n",
       "3  Logistic Regression      0.575073               0.559273\n",
       "4                  SVM      0.526239               0.440921\n",
       "5       Neural Network      0.663265               0.658888"
      ]
     },
     "execution_count": 22,
     "metadata": {},
     "output_type": "execute_result"
    }
   ],
   "source": [
    "# Compile the performance metrics of all models into a DataFrame for comparison\n",
    "performance_data = {\n",
    "    \"Model\": [\"Decision Tree\", \"Random Forest\", \"Gradient Boosting\", \"Logistic Regression\", \"SVM\", \"Neural Network\"],\n",
    "    \"Accuracy (%)\": [dt_accuracy, rf_accuracy, gbm_accuracy, lr_accuracy, svm_accuracy, nn_accuracy],\n",
    "    \"Weighted F1-Score (%)\": [dt_f1, rf_f1, gbm_f1, lr_f1, svm_f1, nn_f1]\n",
    "}\n",
    "\n",
    "performance_df = pd.DataFrame(performance_data)\n",
    "\n",
    "# Display the performance comparison table\n",
    "performance_df\n"
   ]
  },
  {
   "cell_type": "markdown",
   "id": "fa1b454f",
   "metadata": {},
   "source": [
    "This summary provides a comparative view of the performances of the various models. Gradient Boosting Machines (GBM) performed the best, followed closely by the Random Forest classifier.\n",
    "\n",
    "Given the models we've trained, the most promising candidates for hyperparameter tuning are Random Forest and Gradient Boosting Machines (GBM) since they've shown the best performance so far.\n",
    "\n",
    "For hyperparameter tuning, a common approach is to use grid search or random search with cross-validation.\n",
    "\n",
    "Grid Search: This involves exhaustively trying every combination of hyperparameters in a predefined search space.\n",
    "\n",
    "Random Search: This method samples hyperparameters from a distribution over the search space and is more flexible and often more efficient than grid search.\n",
    "\n"
   ]
  },
  {
   "cell_type": "markdown",
   "id": "490e242b",
   "metadata": {},
   "source": [
    "### Random Forests\n",
    "\n",
    "1. Hyperparameters to Consider:\n",
    "\n",
    "- n_estimators: Number of trees in the forest.<br />\n",
    "- max_features: Number of features to consider when looking for the best split.<br />\n",
    "Parameters from Decision Trees (max_depth, min_samples_split, etc.)\n",
    "\n",
    "2. Tuning Strategy:\n",
    "RandomizedSearchCV is a good choice given the larger number of combinations."
   ]
  },
  {
   "cell_type": "code",
   "execution_count": 29,
   "id": "103a9d49",
   "metadata": {},
   "outputs": [
    {
     "name": "stdout",
     "output_type": "stream",
     "text": [
      "Fitting 5 folds for each of 100 candidates, totalling 500 fits\n"
     ]
    },
    {
     "data": {
      "text/plain": [
       "({'n_estimators': 80,\n",
       "  'min_samples_split': 16,\n",
       "  'min_samples_leaf': 1,\n",
       "  'max_features': 'sqrt',\n",
       "  'max_depth': None,\n",
       "  'criterion': 'gini',\n",
       "  'bootstrap': False},\n",
       " 0.6928022907718339)"
      ]
     },
     "execution_count": 29,
     "metadata": {},
     "output_type": "execute_result"
    }
   ],
   "source": [
    "from sklearn.tree import DecisionTreeClassifier\n",
    "from sklearn.model_selection import RandomizedSearchCV\n",
    "import numpy as np\n",
    "from sklearn.ensemble import RandomForestClassifier\n",
    "\n",
    "# Hyperparameter grid for Random Forests\n",
    "rf_param_dist = {\n",
    "    'n_estimators': np.arange(10, 200, 10),\n",
    "    'max_features': ['sqrt', 'log2'],  # Removed 'auto'\n",
    "    'max_depth': [None] + list(np.arange(3, 20)),\n",
    "    'min_samples_split': np.arange(2, 50),\n",
    "    'min_samples_leaf': np.arange(1, 50),\n",
    "    'bootstrap': [True, False],\n",
    "    'criterion': ['gini', 'entropy']\n",
    "}\n",
    "\n",
    "# Random Search for Random Forests\n",
    "rf_search = RandomizedSearchCV(RandomForestClassifier(), rf_param_dist, n_iter=100, cv=5, verbose=1, n_jobs=-1)\n",
    "rf_search.fit(X_train, y_train)\n",
    "\n",
    "# Extract best hyperparameters and best score\n",
    "best_hyperparameters = rf_search.best_params_\n",
    "best_score = rf_search.best_score_\n",
    "\n",
    "best_hyperparameters, best_score\n"
   ]
  },
  {
   "cell_type": "markdown",
   "id": "4934ff52",
   "metadata": {},
   "source": [
    "From this, it seems that the random search found a combination of hyperparameters that results in about 69.28% cross-validated accuracy. The fine-tuned model shows a slight improvement in accuracy. This indicates that hyperparameter tuning did provide some benefits, even if they are modest."
   ]
  },
  {
   "cell_type": "markdown",
   "id": "8cb5b484",
   "metadata": {},
   "source": [
    "### Gradient Boosting Machines\n",
    "\n",
    "1. Hyperparameters to Consider:\n",
    "\n",
    "- n_estimators: Number of boosting stages to run.\n",
    "learning_rate: Shrinks the contribution of each tree.\n",
    "- Parameters from Decision Trees.\n",
    "\n",
    "2. Tuning Strategy:\n",
    "RandomizedSearchCV for initial exploration, followed by GridSearchCV around the best parameters found."
   ]
  },
  {
   "cell_type": "code",
   "execution_count": 31,
   "id": "e69d259f",
   "metadata": {},
   "outputs": [
    {
     "name": "stdout",
     "output_type": "stream",
     "text": [
      "Fitting 5 folds for each of 100 candidates, totalling 500 fits\n"
     ]
    },
    {
     "data": {
      "text/html": [
       "<style>#sk-container-id-5 {color: black;background-color: white;}#sk-container-id-5 pre{padding: 0;}#sk-container-id-5 div.sk-toggleable {background-color: white;}#sk-container-id-5 label.sk-toggleable__label {cursor: pointer;display: block;width: 100%;margin-bottom: 0;padding: 0.3em;box-sizing: border-box;text-align: center;}#sk-container-id-5 label.sk-toggleable__label-arrow:before {content: \"▸\";float: left;margin-right: 0.25em;color: #696969;}#sk-container-id-5 label.sk-toggleable__label-arrow:hover:before {color: black;}#sk-container-id-5 div.sk-estimator:hover label.sk-toggleable__label-arrow:before {color: black;}#sk-container-id-5 div.sk-toggleable__content {max-height: 0;max-width: 0;overflow: hidden;text-align: left;background-color: #f0f8ff;}#sk-container-id-5 div.sk-toggleable__content pre {margin: 0.2em;color: black;border-radius: 0.25em;background-color: #f0f8ff;}#sk-container-id-5 input.sk-toggleable__control:checked~div.sk-toggleable__content {max-height: 200px;max-width: 100%;overflow: auto;}#sk-container-id-5 input.sk-toggleable__control:checked~label.sk-toggleable__label-arrow:before {content: \"▾\";}#sk-container-id-5 div.sk-estimator input.sk-toggleable__control:checked~label.sk-toggleable__label {background-color: #d4ebff;}#sk-container-id-5 div.sk-label input.sk-toggleable__control:checked~label.sk-toggleable__label {background-color: #d4ebff;}#sk-container-id-5 input.sk-hidden--visually {border: 0;clip: rect(1px 1px 1px 1px);clip: rect(1px, 1px, 1px, 1px);height: 1px;margin: -1px;overflow: hidden;padding: 0;position: absolute;width: 1px;}#sk-container-id-5 div.sk-estimator {font-family: monospace;background-color: #f0f8ff;border: 1px dotted black;border-radius: 0.25em;box-sizing: border-box;margin-bottom: 0.5em;}#sk-container-id-5 div.sk-estimator:hover {background-color: #d4ebff;}#sk-container-id-5 div.sk-parallel-item::after {content: \"\";width: 100%;border-bottom: 1px solid gray;flex-grow: 1;}#sk-container-id-5 div.sk-label:hover label.sk-toggleable__label {background-color: #d4ebff;}#sk-container-id-5 div.sk-serial::before {content: \"\";position: absolute;border-left: 1px solid gray;box-sizing: border-box;top: 0;bottom: 0;left: 50%;z-index: 0;}#sk-container-id-5 div.sk-serial {display: flex;flex-direction: column;align-items: center;background-color: white;padding-right: 0.2em;padding-left: 0.2em;position: relative;}#sk-container-id-5 div.sk-item {position: relative;z-index: 1;}#sk-container-id-5 div.sk-parallel {display: flex;align-items: stretch;justify-content: center;background-color: white;position: relative;}#sk-container-id-5 div.sk-item::before, #sk-container-id-5 div.sk-parallel-item::before {content: \"\";position: absolute;border-left: 1px solid gray;box-sizing: border-box;top: 0;bottom: 0;left: 50%;z-index: -1;}#sk-container-id-5 div.sk-parallel-item {display: flex;flex-direction: column;z-index: 1;position: relative;background-color: white;}#sk-container-id-5 div.sk-parallel-item:first-child::after {align-self: flex-end;width: 50%;}#sk-container-id-5 div.sk-parallel-item:last-child::after {align-self: flex-start;width: 50%;}#sk-container-id-5 div.sk-parallel-item:only-child::after {width: 0;}#sk-container-id-5 div.sk-dashed-wrapped {border: 1px dashed gray;margin: 0 0.4em 0.5em 0.4em;box-sizing: border-box;padding-bottom: 0.4em;background-color: white;}#sk-container-id-5 div.sk-label label {font-family: monospace;font-weight: bold;display: inline-block;line-height: 1.2em;}#sk-container-id-5 div.sk-label-container {text-align: center;}#sk-container-id-5 div.sk-container {/* jupyter's `normalize.less` sets `[hidden] { display: none; }` but bootstrap.min.css set `[hidden] { display: none !important; }` so we also need the `!important` here to be able to override the default hidden behavior on the sphinx rendered scikit-learn.org. See: https://github.com/scikit-learn/scikit-learn/issues/21755 */display: inline-block !important;position: relative;}#sk-container-id-5 div.sk-text-repr-fallback {display: none;}</style><div id=\"sk-container-id-5\" class=\"sk-top-container\"><div class=\"sk-text-repr-fallback\"><pre>RandomizedSearchCV(cv=5, estimator=GradientBoostingClassifier(), n_iter=100,\n",
       "                   n_jobs=-1,\n",
       "                   param_distributions={&#x27;learning_rate&#x27;: [0.01, 0.05, 0.1, 0.5,\n",
       "                                                          1],\n",
       "                                        &#x27;max_depth&#x27;: [None, 3, 4, 5, 6, 7, 8, 9,\n",
       "                                                      10, 11, 12, 13, 14, 15,\n",
       "                                                      16, 17, 18, 19],\n",
       "                                        &#x27;max_features&#x27;: [&#x27;sqrt&#x27;, &#x27;log2&#x27;],\n",
       "                                        &#x27;min_samples_leaf&#x27;: array([ 1,  2,  3,  4,  5,  6,  7,  8,  9, 10, 11, 12, 13, 14, 15, 16, 17,\n",
       "       18, 19, 20, 21, 22, 23, 24, 25, 26, 27, 28, 29, 30, 31, 32,...\n",
       "       35, 36, 37, 38, 39, 40, 41, 42, 43, 44, 45, 46, 47, 48, 49]),\n",
       "                                        &#x27;min_samples_split&#x27;: array([ 2,  3,  4,  5,  6,  7,  8,  9, 10, 11, 12, 13, 14, 15, 16, 17, 18,\n",
       "       19, 20, 21, 22, 23, 24, 25, 26, 27, 28, 29, 30, 31, 32, 33, 34, 35,\n",
       "       36, 37, 38, 39, 40, 41, 42, 43, 44, 45, 46, 47, 48, 49]),\n",
       "                                        &#x27;n_estimators&#x27;: array([ 10,  20,  30,  40,  50,  60,  70,  80,  90, 100, 110, 120, 130,\n",
       "       140, 150, 160, 170, 180, 190]),\n",
       "                                        &#x27;subsample&#x27;: [0.5, 0.6, 0.7, 0.8, 0.9,\n",
       "                                                      1.0]},\n",
       "                   verbose=1)</pre><b>In a Jupyter environment, please rerun this cell to show the HTML representation or trust the notebook. <br />On GitHub, the HTML representation is unable to render, please try loading this page with nbviewer.org.</b></div><div class=\"sk-container\" hidden><div class=\"sk-item sk-dashed-wrapped\"><div class=\"sk-label-container\"><div class=\"sk-label sk-toggleable\"><input class=\"sk-toggleable__control sk-hidden--visually\" id=\"sk-estimator-id-13\" type=\"checkbox\" ><label for=\"sk-estimator-id-13\" class=\"sk-toggleable__label sk-toggleable__label-arrow\">RandomizedSearchCV</label><div class=\"sk-toggleable__content\"><pre>RandomizedSearchCV(cv=5, estimator=GradientBoostingClassifier(), n_iter=100,\n",
       "                   n_jobs=-1,\n",
       "                   param_distributions={&#x27;learning_rate&#x27;: [0.01, 0.05, 0.1, 0.5,\n",
       "                                                          1],\n",
       "                                        &#x27;max_depth&#x27;: [None, 3, 4, 5, 6, 7, 8, 9,\n",
       "                                                      10, 11, 12, 13, 14, 15,\n",
       "                                                      16, 17, 18, 19],\n",
       "                                        &#x27;max_features&#x27;: [&#x27;sqrt&#x27;, &#x27;log2&#x27;],\n",
       "                                        &#x27;min_samples_leaf&#x27;: array([ 1,  2,  3,  4,  5,  6,  7,  8,  9, 10, 11, 12, 13, 14, 15, 16, 17,\n",
       "       18, 19, 20, 21, 22, 23, 24, 25, 26, 27, 28, 29, 30, 31, 32,...\n",
       "       35, 36, 37, 38, 39, 40, 41, 42, 43, 44, 45, 46, 47, 48, 49]),\n",
       "                                        &#x27;min_samples_split&#x27;: array([ 2,  3,  4,  5,  6,  7,  8,  9, 10, 11, 12, 13, 14, 15, 16, 17, 18,\n",
       "       19, 20, 21, 22, 23, 24, 25, 26, 27, 28, 29, 30, 31, 32, 33, 34, 35,\n",
       "       36, 37, 38, 39, 40, 41, 42, 43, 44, 45, 46, 47, 48, 49]),\n",
       "                                        &#x27;n_estimators&#x27;: array([ 10,  20,  30,  40,  50,  60,  70,  80,  90, 100, 110, 120, 130,\n",
       "       140, 150, 160, 170, 180, 190]),\n",
       "                                        &#x27;subsample&#x27;: [0.5, 0.6, 0.7, 0.8, 0.9,\n",
       "                                                      1.0]},\n",
       "                   verbose=1)</pre></div></div></div><div class=\"sk-parallel\"><div class=\"sk-parallel-item\"><div class=\"sk-item\"><div class=\"sk-label-container\"><div class=\"sk-label sk-toggleable\"><input class=\"sk-toggleable__control sk-hidden--visually\" id=\"sk-estimator-id-14\" type=\"checkbox\" ><label for=\"sk-estimator-id-14\" class=\"sk-toggleable__label sk-toggleable__label-arrow\">estimator: GradientBoostingClassifier</label><div class=\"sk-toggleable__content\"><pre>GradientBoostingClassifier()</pre></div></div></div><div class=\"sk-serial\"><div class=\"sk-item\"><div class=\"sk-estimator sk-toggleable\"><input class=\"sk-toggleable__control sk-hidden--visually\" id=\"sk-estimator-id-15\" type=\"checkbox\" ><label for=\"sk-estimator-id-15\" class=\"sk-toggleable__label sk-toggleable__label-arrow\">GradientBoostingClassifier</label><div class=\"sk-toggleable__content\"><pre>GradientBoostingClassifier()</pre></div></div></div></div></div></div></div></div></div></div>"
      ],
      "text/plain": [
       "RandomizedSearchCV(cv=5, estimator=GradientBoostingClassifier(), n_iter=100,\n",
       "                   n_jobs=-1,\n",
       "                   param_distributions={'learning_rate': [0.01, 0.05, 0.1, 0.5,\n",
       "                                                          1],\n",
       "                                        'max_depth': [None, 3, 4, 5, 6, 7, 8, 9,\n",
       "                                                      10, 11, 12, 13, 14, 15,\n",
       "                                                      16, 17, 18, 19],\n",
       "                                        'max_features': ['sqrt', 'log2'],\n",
       "                                        'min_samples_leaf': array([ 1,  2,  3,  4,  5,  6,  7,  8,  9, 10, 11, 12, 13, 14, 15, 16, 17,\n",
       "       18, 19, 20, 21, 22, 23, 24, 25, 26, 27, 28, 29, 30, 31, 32,...\n",
       "       35, 36, 37, 38, 39, 40, 41, 42, 43, 44, 45, 46, 47, 48, 49]),\n",
       "                                        'min_samples_split': array([ 2,  3,  4,  5,  6,  7,  8,  9, 10, 11, 12, 13, 14, 15, 16, 17, 18,\n",
       "       19, 20, 21, 22, 23, 24, 25, 26, 27, 28, 29, 30, 31, 32, 33, 34, 35,\n",
       "       36, 37, 38, 39, 40, 41, 42, 43, 44, 45, 46, 47, 48, 49]),\n",
       "                                        'n_estimators': array([ 10,  20,  30,  40,  50,  60,  70,  80,  90, 100, 110, 120, 130,\n",
       "       140, 150, 160, 170, 180, 190]),\n",
       "                                        'subsample': [0.5, 0.6, 0.7, 0.8, 0.9,\n",
       "                                                      1.0]},\n",
       "                   verbose=1)"
      ]
     },
     "execution_count": 31,
     "metadata": {},
     "output_type": "execute_result"
    }
   ],
   "source": [
    "from sklearn.ensemble import GradientBoostingClassifier\n",
    "\n",
    "# Hyperparameter grid for GBM\n",
    "gbm_param_dist = {\n",
    "    'n_estimators': np.arange(10, 200, 10),\n",
    "    'learning_rate': [0.01, 0.05, 0.1, 0.5, 1],\n",
    "    'max_depth': [None] + list(np.arange(3, 20)),\n",
    "    'min_samples_split': np.arange(2, 50),\n",
    "    'min_samples_leaf': np.arange(1, 50),\n",
    "    'subsample': [0.5, 0.6, 0.7, 0.8, 0.9, 1.0],\n",
    "    'max_features': [ 'sqrt', 'log2']\n",
    "}\n",
    "\n",
    "# Random Search for GBM\n",
    "gbm_search = RandomizedSearchCV(GradientBoostingClassifier(), gbm_param_dist, n_iter=100, cv=5, verbose=1, n_jobs=-1)\n",
    "gbm_search.fit(X_train, y_train)\n"
   ]
  },
  {
   "cell_type": "markdown",
   "id": "aa90f6e1",
   "metadata": {},
   "source": [
    "We are interested in seeing the performance of all the hyperparameter combinations that were tried, we can use the cv_results_ attribute. This will give us a dictionary with a lot of information, but here's how we can extract some key pieces:"
   ]
  },
  {
   "cell_type": "code",
   "execution_count": 33,
   "id": "bacc48a4",
   "metadata": {},
   "outputs": [
    {
     "name": "stdout",
     "output_type": "stream",
     "text": [
      "                                               params  mean_test_score  \\\n",
      "20  {'subsample': 1.0, 'n_estimators': 130, 'min_s...         0.724899   \n",
      "0   {'subsample': 1.0, 'n_estimators': 120, 'min_s...         0.722973   \n",
      "35  {'subsample': 0.8, 'n_estimators': 130, 'min_s...         0.721749   \n",
      "1   {'subsample': 1.0, 'n_estimators': 170, 'min_s...         0.721255   \n",
      "49  {'subsample': 0.8, 'n_estimators': 160, 'min_s...         0.720838   \n",
      "\n",
      "    rank_test_score  \n",
      "20                1  \n",
      "0                 2  \n",
      "35                3  \n",
      "1                 4  \n",
      "49                5  \n"
     ]
    }
   ],
   "source": [
    "results = pd.DataFrame(gbm_search.cv_results_)\n",
    "# Display the top 5 hyperparameter combinations by mean test score\n",
    "print(results[['params', 'mean_test_score', 'rank_test_score']].sort_values(by='rank_test_score').head(5))\n"
   ]
  },
  {
   "cell_type": "markdown",
   "id": "3f6deb68",
   "metadata": {},
   "source": [
    "- The best hyperparameters outperformed the rest, but the difference in performance between the top combinations is relatively small. This suggests that GBM is somewhat robust to hyperparameter variations in this range.\n",
    "- A subsample of 1.0, which means that the whole dataset is used for training (no subsampling), appears to be a good choice based on the top two results.\n",
    "- n_estimators around 130 seems to be a favorable choice, as observed from the top results. This means that approximately 130 boosting stages give a good trade-off between performance and potential overfitting."
   ]
  },
  {
   "cell_type": "markdown",
   "id": "f5d5fc38",
   "metadata": {},
   "source": [
    "Finally, we will evaluate the performance of the best model on our test data as follows:"
   ]
  },
  {
   "cell_type": "code",
   "execution_count": 35,
   "id": "07479e6d",
   "metadata": {},
   "outputs": [
    {
     "name": "stdout",
     "output_type": "stream",
     "text": [
      "Test Accuracy with Best Model: 0.7291753436068305\n"
     ]
    }
   ],
   "source": [
    "best_gbm = gbm_search.best_estimator_\n",
    "test_predictions = best_gbm.predict(X_test)\n",
    "test_accuracy = accuracy_score(y_test, test_predictions)\n",
    "print(f\"Test Accuracy with Best Model: {test_accuracy}\")\n"
   ]
  },
  {
   "cell_type": "code",
   "execution_count": 36,
   "id": "26847293",
   "metadata": {},
   "outputs": [
    {
     "name": "stdout",
     "output_type": "stream",
     "text": [
      "              precision    recall  f1-score   support\n",
      "\n",
      "        High       0.77      0.69      0.73      2688\n",
      "         Low       0.76      0.69      0.72      2437\n",
      "      Medium       0.70      0.78      0.74      4479\n",
      "\n",
      "    accuracy                           0.73      9604\n",
      "   macro avg       0.74      0.72      0.73      9604\n",
      "weighted avg       0.73      0.73      0.73      9604\n",
      "\n",
      "[[1845   48  795]\n",
      " [  45 1678  714]\n",
      " [ 509  490 3480]]\n"
     ]
    }
   ],
   "source": [
    "from sklearn.metrics import classification_report, confusion_matrix\n",
    "\n",
    "# Predictions using the best GBM model\n",
    "y_pred = gbm_search.best_estimator_.predict(X_test)\n",
    "\n",
    "# Classification report\n",
    "print(classification_report(y_test, y_pred))\n",
    "\n",
    "# Confusion Matrix\n",
    "cm = confusion_matrix(y_test, y_pred)\n",
    "print(cm)\n"
   ]
  },
  {
   "cell_type": "markdown",
   "id": "21d17f0a",
   "metadata": {},
   "source": [
    "Let's break down the results:\n",
    "\n",
    "## Classification Report:\n",
    "\n",
    "1. High Compensation:\n",
    "\n",
    "- Precision: 77% of the instances predicted as \"High\" were actually \"High\".\n",
    "- Recall: Out of all the actual \"High\" compensation instances, 69% were correctly predicted by the model.\n",
    "- F1-score: Harmonic mean of precision and recall for this class is 73%.\n",
    "- Support: There were 2,688 actual instances of this class in the test set.\n",
    "\n",
    "2. Low Compensation:\n",
    "\n",
    "- Precision: 76% of the instances predicted as \"Low\" were actually \"Low\".\n",
    "- Recall: 69% of the actual \"Low\" compensation instances were correctly predicted.\n",
    "- F1-score: 72%.\n",
    "- Support: 2,437 actual instances.\n",
    "\n",
    "3. Medium Compensation:\n",
    "\n",
    "- Precision: 70% of the instances predicted as \"Medium\" were indeed \"Medium\".\n",
    "- Recall: 78% of the actual \"Medium\" compensation instances were correctly predicted, which is the highest recall among the three classes.\n",
    "- F1-score: 74%.\n",
    "- Support: 4,479 actual instances.\n",
    "\n",
    "### Overall:\n",
    "\n",
    "The model's accuracy on the test set is 73%, which aligns with the previously calculated accuracy.\n",
    "The weighted average F1-score is also 73%, indicating a balanced performance across the different compensation levels, considering the number of instances of each class.\n",
    "\n",
    "### Confusion Matrix:\n",
    "\n",
    "The rows represent the actual classes, and the columns represent the predicted classes.\n",
    "\n",
    "- High Compensation: 1,845 were correctly classified (True Positive for \"High\"), 48 were misclassified as \"Low\", and 795 were misclassified as \"Medium\".\n",
    "- Low Compensation: 1,678 were correctly classified, 45 were misclassified as \"High\", and 714 were misclassified as \"Medium\".\n",
    "- Medium Compensation: 3,480 were correctly classified, 509 were misclassified as \"High\", and 490 were misclassified as \"Low\".\n",
    "\n",
    "The model seems to have the highest difficulty in distinguishing between \"High\" and \"Medium\" compensations, as indicated by the higher off-diagonal values in the confusion matrix.\n",
    "The recall for \"Medium\" is the highest among the classes, meaning the model does a better job capturing the \"Medium\" compensation instances compared to the other two classes.\n",
    "The precision for \"Medium\" is slightly lower than the other classes, indicating some over-prediction for this class."
   ]
  },
  {
   "cell_type": "markdown",
   "id": "2bbea3ee",
   "metadata": {},
   "source": [
    "## Conclusion:\n",
    "\n",
    "Throughout the process of analyzing the developer survey data, we aimed to categorize developers into different compensation levels based on various attributes such as skills, experience, country, and more. Our journey was a clear reminder that data science projects often encompass a wide spectrum of challenges that go beyond just algorithm selection or model training.\n",
    "\n",
    "1. Understanding the Data: Our dataset was vast, with over 89,000 entries spanning 84 columns. The preliminary step involved understanding the nature of the data, visualizing distributions, and determining our target variable: the 'CompensationLevel'.\n",
    "\n",
    "2. Data Cleaning & Transformation: We observed a wide range in the annual compensation, suggesting outliers or erroneous entries. Deciding on compensation brackets required using quantiles to create a balanced classification. Moreover, the data contained a significant number of missing values. Handling these appropriately – whether by imputation, encoding, or removal – was pivotal to ensure the quality of the dataset feeding into our models.\n",
    "\n",
    "3. Feature Selection & Engineering: We identified relevant predictors and recognized the importance of features like 'Country', which could significantly influence compensation levels due to economic disparities and cost-of-living variations. Other attributes such as years of experience, education level, and developer type also played crucial roles.\n",
    "\n",
    "4. Challenges: One of the main challenges was the significant amount of missing data in our target variable, 'CompensationLevel'. Considering the 10% rule, where if more than 10% of the data for a given feature is missing, it might be considered for removal, we debated various strategies, including interpolation, imputation, and oversampling. However, since this was the variable we aimed to predict, many traditional imputation methods might not have been suitable. Furthermore, the data's nature, being from a survey, added another layer of complexity. Survey data can be inherently biased and might not always capture the full spectrum of the population.\n",
    "\n",
    "5. Limitations & External Factors: The 'Country' feature stood out as a potential influencing factor, given the wide disparities in developer compensations worldwide. Economic conditions, industry demand, and living costs can vary dramatically between countries, potentially skewing results. Additionally, external factors, such as currency fluctuations or political events, can also impact compensation, which might not be captured in the survey.\n",
    "\n",
    "6. Looking Ahead: While we eventually decided on dropping rows with missing target values, future endeavors might involve more advanced techniques, perhaps leveraging external datasets or domain knowledge. Another avenue could be to focus on region-specific models, considering the influence of the 'Country' feature.\n",
    "\n",
    "In conclusion, this project was a testament to the iterative nature of data science. From data cleaning to model evaluation, every step required critical thinking, backed by domain knowledge and data-driven insights. The challenges faced underscore the importance of a robust preprocessing phase and the need to always be cognizant of the underlying biases and limitations inherent in every dataset.\n"
   ]
  },
  {
   "cell_type": "code",
   "execution_count": null,
   "id": "9d5caa7e",
   "metadata": {},
   "outputs": [],
   "source": []
  }
 ],
 "metadata": {
  "kernelspec": {
   "display_name": "Python 3 (ipykernel)",
   "language": "python",
   "name": "python3"
  },
  "language_info": {
   "codemirror_mode": {
    "name": "ipython",
    "version": 3
   },
   "file_extension": ".py",
   "mimetype": "text/x-python",
   "name": "python",
   "nbconvert_exporter": "python",
   "pygments_lexer": "ipython3",
   "version": "3.9.13"
  }
 },
 "nbformat": 4,
 "nbformat_minor": 5
}
